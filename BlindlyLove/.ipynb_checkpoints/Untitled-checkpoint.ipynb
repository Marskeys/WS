{
 "cells": [
  {
   "cell_type": "code",
   "execution_count": null,
   "id": "b5813003-f000-4a8a-b17b-6faa7dd6c9ea",
   "metadata": {},
   "outputs": [
    {
     "name": "stdout",
     "output_type": "stream",
     "text": [
      "정수 10개를 입력 (띄어쓰기로 구분):\n"
     ]
    }
   ],
   "source": [
    "def insertion_sort(arr):  # 삽입 정렬 함수: 배열을 인자로 받음 \n",
    "    for i in range(1, len(arr)):\n",
    "        current = arr[i]\n",
    "        j = i - 1\n",
    "\n",
    "        while j >= 0 and arr[j] > current:  # 앞의 요소와 비교, 큰 수를 뒤로 \n",
    "            arr[j + 1] = arr[j]\n",
    "            j -= 1\n",
    "\n",
    "        arr[j + 1] = current  # 삽입할 위치에 현재 값 넣기\n",
    "\n",
    "\n",
    "print(\"정수 10개를 입력 (띄어쓰기로 구분):\")  # 사용자로부터 10개의 정수 입력받기\n",
    "input_str = input()\n",
    "numbers = list(map(int, input_str.strip().split()))\n",
    "\n",
    "# 에러 검사\n",
    "if len(numbers) != 10:\n",
    "    print(\"10개의 숫자를 입력해 주세요.\")\n",
    "    exit()\n",
    "\n",
    "# 🔧 정렬 함수 호출! ← 이게 빠졌던 부분\n",
    "insertion_sort(numbers)\n",
    "\n",
    "# 결과 \n",
    "print(\"\\n정렬된 결과:\")\n",
    "print(numbers)\n"
   ]
  },
  {
   "cell_type": "code",
   "execution_count": null,
   "id": "62638f67-c63c-4f81-b931-7db350a86b49",
   "metadata": {},
   "outputs": [],
   "source": []
  }
 ],
 "metadata": {
  "kernelspec": {
   "display_name": "Python 3 (ipykernel)",
   "language": "python",
   "name": "python3"
  },
  "language_info": {
   "codemirror_mode": {
    "name": "ipython",
    "version": 3
   },
   "file_extension": ".py",
   "mimetype": "text/x-python",
   "name": "python",
   "nbconvert_exporter": "python",
   "pygments_lexer": "ipython3",
   "version": "3.9.6"
  }
 },
 "nbformat": 4,
 "nbformat_minor": 5
}
