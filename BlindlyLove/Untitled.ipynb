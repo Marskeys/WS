{
 "cells": [
  {
   "cell_type": "code",
   "execution_count": 1,
   "id": "b5813003-f000-4a8a-b17b-6faa7dd6c9ea",
   "metadata": {},
   "outputs": [
    {
     "name": "stdout",
     "output_type": "stream",
     "text": [
      "정수 10개를 입력 (띄어쓰기로 구분):\n"
     ]
    },
    {
     "name": "stdin",
     "output_type": "stream",
     "text": [
      " 1 32 17 49 83 97 4 8 33 28\n"
     ]
    },
    {
     "name": "stdout",
     "output_type": "stream",
     "text": [
      "\n",
      "정렬된 결과:\n",
      "[1, 4, 8, 17, 28, 32, 33, 49, 83, 97]\n"
     ]
    }
   ],
   "source": [
    "def insertion_sort(arr):  # 삽입 정렬 함수 정의: 배열을 인자로 받음 \n",
    "    for i in range(1, len(arr)):  # 두 번째 요소부터 시작해서 하나씩 확인\n",
    "        current = arr[i]  # 현재 삽입할 값 저장\n",
    "        j = i - 1  # 앞쪽 정렬된 영역의 마지막 인덱스\n",
    "\n",
    "        while j >= 0 and arr[j] > current:  # 앞의 요소들과 비교해서 더 크면 뒤로 한 칸씩 이동\n",
    "            arr[j + 1] = arr[j]  # 큰 값을 뒤로 밀기\n",
    "            j -= 1  # 한 칸 왼쪽으로 이동해서 계속 비교\n",
    "\n",
    "        arr[j + 1] = current  # 삽입할 위치에 현재 값 넣기\n",
    "\n",
    "\n",
    "print(\"정수 10개를 입력 (띄어쓰기로 구분):\")  # 사용자로부터 10개의 정수 입력 받기\n",
    "input_str = input()\n",
    "numbers = list(map(int, input_str.strip().split()))  # 입력받은 문자열을 정수 리스트로 변환\n",
    "\n",
    "# 에러 검사\n",
    "if len(numbers) != 10:  # 정확히 10개가 아닐 경우 경고 후 종료\n",
    "    print(\"10개의 숫자를 입력해 주세요.\")\n",
    "    exit()\n",
    "\n",
    "insertion_sort(numbers)  # 삽입 정렬 함수 호출\n",
    "\n",
    "# 결과 \n",
    "print(\"\\n정렬된 결과:\")  # 정렬된 리스트 출력\n",
    "print(numbers)\n"
   ]
  },
  {
   "cell_type": "code",
   "execution_count": null,
   "id": "62638f67-c63c-4f81-b931-7db350a86b49",
   "metadata": {},
   "outputs": [],
   "source": []
  }
 ],
 "metadata": {
  "kernelspec": {
   "display_name": "Python 3 (ipykernel)",
   "language": "python",
   "name": "python3"
  },
  "language_info": {
   "codemirror_mode": {
    "name": "ipython",
    "version": 3
   },
   "file_extension": ".py",
   "mimetype": "text/x-python",
   "name": "python",
   "nbconvert_exporter": "python",
   "pygments_lexer": "ipython3",
   "version": "3.9.6"
  }
 },
 "nbformat": 4,
 "nbformat_minor": 5
}
